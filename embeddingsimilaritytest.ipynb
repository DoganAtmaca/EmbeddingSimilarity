{
 "cells": [
  {
   "cell_type": "code",
   "execution_count": 9,
   "id": "823edb96-2446-47f7-915e-cb4d6445342b",
   "metadata": {},
   "outputs": [
    {
     "name": "stdout",
     "output_type": "stream",
     "text": [
      "Cümleler arası benzerlik matrisi:\n",
      "tensor([[1.0000, 0.9471],\n",
      "        [0.9471, 1.0000]])\n",
      "tensor([[-0.5770, -0.0729,  0.2324,  ..., -0.3499,  1.0036, -0.9632],\n",
      "        [-0.3538,  0.3464,  0.2237,  ..., -0.3634,  0.9910, -0.9346]])\n"
     ]
    }
   ],
   "source": [
    "from sentence_transformers import SentenceTransformer, util\n",
    "\n",
    "# Türkçe sentence embedding modeli\n",
    "model = SentenceTransformer(\"emrecan/bert-base-turkish-cased-mean-nli-stsb-tr\")\n",
    "\n",
    "# Örnek cümleler\n",
    "sentences = [\n",
    "    \"Akşam saatlerinde evde televizyon izliyordum. Birden arka kapıdan gelen gürültüyle irkildim. Salona koştuğumda evime izinsiz birinin girdiğini fark ettim. Hırsız mutfağa yönelmiş ve değerli eşyaları toplamaya başlamıştı. Çok korktum ve polisi aradım. Hırsız panikleyip kaçtı.\",\n",
    "    \"Evde televizyon izlerken arka kapıdan gelen sesle ürktüm. Hemen salona koştum ve evime birinin girdiğini gördüm. Hırsız mutfaktaki değerli eşyaları toplamaya çalışıyordu. Korktum ve polise haber verdim. Hırsız olay yerinden kaçtı.\",\n",
    "]\n",
    "\n",
    "# Embedding çıkar\n",
    "embeddings = model.encode(sentences, convert_to_tensor=True)\n",
    "\n",
    "# Benzerlik hesaplama (cosine similarity)\n",
    "similarity = util.cos_sim(embeddings, embeddings)\n",
    "\n",
    "# Sonuçları yazdır\n",
    "print(\"Cümleler arası benzerlik matrisi:\")\n",
    "print(similarity)\n",
    "print(embeddings)"
   ]
  }
 ],
 "metadata": {
  "kernelspec": {
   "display_name": "myenv",
   "language": "python",
   "name": "myenv"
  },
  "language_info": {
   "codemirror_mode": {
    "name": "ipython",
    "version": 3
   },
   "file_extension": ".py",
   "mimetype": "text/x-python",
   "name": "python",
   "nbconvert_exporter": "python",
   "pygments_lexer": "ipython3",
   "version": "3.10.13"
  }
 },
 "nbformat": 4,
 "nbformat_minor": 5
}
